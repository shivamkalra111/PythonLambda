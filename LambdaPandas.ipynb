{
  "nbformat": 4,
  "nbformat_minor": 0,
  "metadata": {
    "colab": {
      "provenance": [],
      "authorship_tag": "ABX9TyMKaga+DQAjwY/DSNi/YBoi",
      "include_colab_link": true
    },
    "kernelspec": {
      "name": "python3",
      "display_name": "Python 3"
    },
    "language_info": {
      "name": "python"
    }
  },
  "cells": [
    {
      "cell_type": "markdown",
      "metadata": {
        "id": "view-in-github",
        "colab_type": "text"
      },
      "source": [
        "<a href=\"https://colab.research.google.com/github/shivamkalra111/PythonLambda/blob/main/LambdaPandas.ipynb\" target=\"_parent\"><img src=\"https://colab.research.google.com/assets/colab-badge.svg\" alt=\"Open In Colab\"/></a>"
      ]
    },
    {
      "cell_type": "markdown",
      "source": [
        "lambda aruguments: expression"
      ],
      "metadata": {
        "id": "W1AXQRgiEcSZ"
      }
    },
    {
      "cell_type": "code",
      "execution_count": 1,
      "metadata": {
        "colab": {
          "base_uri": "https://localhost:8080/"
        },
        "id": "6YHE6cPuNYTd",
        "outputId": "ac9dfa6d-406d-430c-f152-78914b81e145"
      },
      "outputs": [
        {
          "output_type": "stream",
          "name": "stdout",
          "text": [
            "64\n"
          ]
        }
      ],
      "source": [
        "square = lambda x: x**3\n",
        "print(square(4))  # Output: 16"
      ]
    },
    {
      "cell_type": "code",
      "source": [
        "import pandas as pd\n",
        "\n",
        "df = pd.DataFrame({\n",
        "    'name': ['SK', 'DK', 'CK'],\n",
        "    'score': [45, 85, 62]\n",
        "})\n",
        "\n",
        "print(df.head().to_markdown(index=False, numalign=\"left\", stralign=\"left\"))"
      ],
      "metadata": {
        "colab": {
          "base_uri": "https://localhost:8080/"
        },
        "id": "6KKuu4TENnYv",
        "outputId": "370e8a74-d0f6-446d-dd33-f5d784c2a2c6"
      },
      "execution_count": 3,
      "outputs": [
        {
          "output_type": "stream",
          "name": "stdout",
          "text": [
            "| name   | score   |\n",
            "|:-------|:--------|\n",
            "| SK     | 45      |\n",
            "| DK     | 85      |\n",
            "| CK     | 62      |\n"
          ]
        }
      ]
    },
    {
      "cell_type": "code",
      "source": [
        "df['grade'] = df['score'].apply(lambda x: 'Pass' if x >= 60 else 'Fail')\n",
        "\n",
        "df['Test'] = df['score'].apply(lambda x: True if x%2 == 0 else False)\n",
        "\n",
        "print(df.head().to_markdown(index=False, numalign=\"left\", stralign=\"left\"))"
      ],
      "metadata": {
        "colab": {
          "base_uri": "https://localhost:8080/"
        },
        "id": "YYLORPeZNsYG",
        "outputId": "12a46391-4521-4231-bee2-c6fe2c7b39a3"
      },
      "execution_count": 5,
      "outputs": [
        {
          "output_type": "stream",
          "name": "stdout",
          "text": [
            "| name   | score   | grade   | Test   |\n",
            "|:-------|:--------|:--------|:-------|\n",
            "| SK     | 45      | Fail    | False  |\n",
            "| DK     | 85      | Pass    | False  |\n",
            "| CK     | 62      | Pass    | True   |\n"
          ]
        }
      ]
    },
    {
      "cell_type": "code",
      "source": [
        "grades = []\n",
        "for score in df['score']:\n",
        "    if score >= 60:\n",
        "        grades.append('Pass')\n",
        "    else:\n",
        "        grades.append('Fail')\n",
        "df['grade_loop'] = grades\n",
        "\n",
        "print(df.head().to_markdown(index=False, numalign=\"left\", stralign=\"left\"))"
      ],
      "metadata": {
        "colab": {
          "base_uri": "https://localhost:8080/"
        },
        "id": "quIagVggNwS_",
        "outputId": "adcf6442-0372-4174-c7ae-58c2490d1f72"
      },
      "execution_count": 6,
      "outputs": [
        {
          "output_type": "stream",
          "name": "stdout",
          "text": [
            "| name   | score   | grade   | Test   | grade_loop   |\n",
            "|:-------|:--------|:--------|:-------|:-------------|\n",
            "| SK     | 45      | Fail    | False  | Fail         |\n",
            "| DK     | 85      | Pass    | False  | Pass         |\n",
            "| CK     | 62      | Pass    | True   | Pass         |\n"
          ]
        }
      ]
    },
    {
      "cell_type": "code",
      "source": [
        "df['grade_lambda'] = df['score'].apply(lambda x: 'Pass' if x >= 60 else 'Fail')\n",
        "\n",
        "print(df.head().to_markdown(index=False, numalign=\"left\", stralign=\"left\"))"
      ],
      "metadata": {
        "colab": {
          "base_uri": "https://localhost:8080/"
        },
        "id": "HR_9UWMnNyOa",
        "outputId": "ac49d1ce-0f7f-4314-84d7-04ac55818764"
      },
      "execution_count": 7,
      "outputs": [
        {
          "output_type": "stream",
          "name": "stdout",
          "text": [
            "| name   | score   | grade   | Test   | grade_loop   | grade_lambda   |\n",
            "|:-------|:--------|:--------|:-------|:-------------|:---------------|\n",
            "| SK     | 45      | Fail    | False  | Fail         | Fail           |\n",
            "| DK     | 85      | Pass    | False  | Pass         | Pass           |\n",
            "| CK     | 62      | Pass    | True   | Pass         | Pass           |\n"
          ]
        }
      ]
    },
    {
      "cell_type": "code",
      "source": [
        "df['final_score'] = df.apply(lambda row: row['score'] + len(row['name']), axis=1)\n",
        "\n",
        "print(df.head().to_markdown(index=False, numalign=\"left\", stralign=\"left\"))"
      ],
      "metadata": {
        "colab": {
          "base_uri": "https://localhost:8080/"
        },
        "id": "2sjPQtWvN2Is",
        "outputId": "db3de97b-a599-4e41-bdc7-a7b6871f4c9d"
      },
      "execution_count": 8,
      "outputs": [
        {
          "output_type": "stream",
          "name": "stdout",
          "text": [
            "| name   | score   | grade   | Test   | grade_loop   | grade_lambda   | final_score   |\n",
            "|:-------|:--------|:--------|:-------|:-------------|:---------------|:--------------|\n",
            "| SK     | 45      | Fail    | False  | Fail         | Fail           | 47            |\n",
            "| DK     | 85      | Pass    | False  | Pass         | Pass           | 87            |\n",
            "| CK     | 62      | Pass    | True   | Pass         | Pass           | 64            |\n"
          ]
        }
      ]
    },
    {
      "cell_type": "code",
      "source": [
        "df['double_score'] = df['score'] * 2  # Faster than lambda!\n",
        "\n",
        "df['double_lambda'] = df['score'].apply(lambda x: x*2)\n",
        "\n",
        "print(df.head().to_markdown(index=False, numalign=\"left\", stralign=\"left\"))"
      ],
      "metadata": {
        "colab": {
          "base_uri": "https://localhost:8080/"
        },
        "id": "4TQIXILpN3rI",
        "outputId": "2ee3070c-384e-4140-fca5-14bff87eb22e"
      },
      "execution_count": 9,
      "outputs": [
        {
          "output_type": "stream",
          "name": "stdout",
          "text": [
            "| name   | score   | grade   | Test   | grade_loop   | grade_lambda   | final_score   | double_score   | double_lambda   |\n",
            "|:-------|:--------|:--------|:-------|:-------------|:---------------|:--------------|:---------------|:----------------|\n",
            "| SK     | 45      | Fail    | False  | Fail         | Fail           | 47            | 90             | 90              |\n",
            "| DK     | 85      | Pass    | False  | Pass         | Pass           | 87            | 170            | 170             |\n",
            "| CK     | 62      | Pass    | True   | Pass         | Pass           | 64            | 124            | 124             |\n"
          ]
        }
      ]
    }
  ]
}